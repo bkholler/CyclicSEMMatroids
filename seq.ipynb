{
 "cells": [
  {
   "cell_type": "code",
   "execution_count": 2,
   "id": "c3ef19f1-cd4d-4e66-822d-a71231ea4bd9",
   "metadata": {},
   "outputs": [],
   "source": [
    "import numpy as np\n",
    "import itertools, copy\n",
    "from functools import reduce"
   ]
  },
  {
   "cell_type": "code",
   "execution_count": 3,
   "id": "36ff850f-cc5c-4d09-8e34-ece413a65013",
   "metadata": {},
   "outputs": [
    {
     "data": {
      "text/plain": [
       "[[5, 1, 0, 0, 0, 0],\n",
       " [4, 2, 0, 0, 0, 0],\n",
       " [4, 1, 1, 0, 0, 0],\n",
       " [3, 3, 0, 0, 0, 0],\n",
       " [3, 2, 1, 0, 0, 0],\n",
       " [3, 1, 1, 1, 0, 0],\n",
       " [2, 2, 2, 0, 0, 0],\n",
       " [2, 2, 1, 1, 0, 0],\n",
       " [2, 1, 1, 1, 1, 0],\n",
       " [1, 1, 1, 1, 1, 1]]"
      ]
     },
     "execution_count": 3,
     "metadata": {},
     "output_type": "execute_result"
    }
   ],
   "source": [
    "# generate all (possible) non-increasing outdegree sequences for simple graphs with p nodes\n",
    "p = 6;\n",
    "edges = 6;\n",
    "seqlist = []\n",
    "\n",
    "for k in reversed(range(1,p)):\n",
    "    stack = [(1, [k], k)]\n",
    "    while stack:\n",
    "        cur, seq, csum = stack.pop()\n",
    "        if cur <= p:\n",
    "            if csum == edges:\n",
    "                #seqlist.append(seq[:])\n",
    "                seqlist.append(seq + [0]*(p-cur))\n",
    "            else:\n",
    "                for i in range(1,min(edges-csum, seq[-1], p-cur+1)+1):\n",
    "                    csum += i\n",
    "                    stack.append((cur+1, seq+[i], csum))\n",
    "                    csum -= i\n",
    "seqlist\n",
    "#len(seqlist)"
   ]
  },
  {
   "cell_type": "code",
   "execution_count": 4,
   "id": "522a2d23-1180-4741-a73b-149b81331cd0",
   "metadata": {},
   "outputs": [],
   "source": [
    "# a function output all graphs for a specific outdegree sequence\n",
    "def AllGraphs(seq):\n",
    "    assert len(seq) == p\n",
    "    \n",
    "    # generate all graphs corresponding to a specific outdegree sequence, with tail nodes representation\n",
    "    adj = np.array([[0 for _ in range(p)] for _ in range(p)])\n",
    "    stack = [(0, [], adj)]\n",
    "    tmp = []\n",
    "    \n",
    "    while stack:\n",
    "        cur, path, adj = stack.pop() #matrix B, i,j entry is j->i\n",
    "        if cur == p:\n",
    "            tmp.append(path)\n",
    "        else:\n",
    "            if seq[cur] == 0:\n",
    "                tmp.append(path + [set()] * (p-cur-1))\n",
    "            else:\n",
    "                for ch in list(itertools.combinations([x for x in range(p) if x != cur], seq[cur])): # all possible children set of size seq[cur]\n",
    "                    ch = list(ch)\n",
    "                    print(cur, ch)\n",
    "                    if sum(adj[ch, cur]) == 0: # no edge from ch to cur, ch can be children set of cur\n",
    "                        adj[ch, cur] = 1\n",
    "                        stack.append((cur+1, path+[ch], copy.deepcopy(adj)))\n",
    "                        adj[ch, cur] = 0 # *cur to children, reset to 0\n",
    "                        \n",
    "                    \n",
    "    # transform to edge representation\n",
    "    def trans(path):\n",
    "        res = []\n",
    "        for i, item in enumerate(path):\n",
    "            if item:\n",
    "                res.extend(list(map(lambda x: (i,x), item)))\n",
    "        return res\n",
    "    \n",
    "    #return tmp\n",
    "    return list(map(trans, tmp))"
   ]
  },
  {
   "cell_type": "code",
   "execution_count": 5,
   "id": "e11e7e70-75c6-47c0-a509-9394381141b4",
   "metadata": {},
   "outputs": [
    {
     "name": "stdout",
     "output_type": "stream",
     "text": [
      "0 [1, 2, 3, 4, 5]\n",
      "1 [0]\n",
      "1 [2]\n",
      "1 [3]\n",
      "1 [4]\n",
      "1 [5]\n"
     ]
    },
    {
     "data": {
      "text/plain": [
       "[[(0, 1), (0, 2), (0, 3), (0, 4), (0, 5), (1, 5)],\n",
       " [(0, 1), (0, 2), (0, 3), (0, 4), (0, 5), (1, 4)],\n",
       " [(0, 1), (0, 2), (0, 3), (0, 4), (0, 5), (1, 3)],\n",
       " [(0, 1), (0, 2), (0, 3), (0, 4), (0, 5), (1, 2)],\n",
       " [(0, 1), (0, 2), (0, 3), (0, 4), (0, 5), (1, 0)]]"
      ]
     },
     "execution_count": 5,
     "metadata": {},
     "output_type": "execute_result"
    }
   ],
   "source": [
    "AllGraphs([5,1,0,0,0,0])"
   ]
  }
 ],
 "metadata": {
  "kernelspec": {
   "display_name": "Python 3",
   "language": "python",
   "name": "python3"
  },
  "language_info": {
   "codemirror_mode": {
    "name": "ipython",
    "version": 3
   },
   "file_extension": ".py",
   "mimetype": "text/x-python",
   "name": "python",
   "nbconvert_exporter": "python",
   "pygments_lexer": "ipython3",
   "version": "3.7.4"
  }
 },
 "nbformat": 4,
 "nbformat_minor": 5
}
