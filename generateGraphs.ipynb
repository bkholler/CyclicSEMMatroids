{
 "cells": [
  {
   "cell_type": "code",
   "execution_count": 1,
   "id": "2fdabb1c-262b-4215-b147-dca484c8acde",
   "metadata": {},
   "outputs": [],
   "source": [
    "import numpy as np\n",
    "import itertools, copy\n",
    "import os"
   ]
  },
  {
   "cell_type": "code",
   "execution_count": null,
   "id": "4e68390e-463e-43d0-a72b-08b303e50ee5",
   "metadata": {},
   "outputs": [],
   "source": [
    "# a function, generate all (possible) non-increasing outdegree sequences for simple graphs with p nodes\n",
    "def OutdSeq(p, edges):\n",
    "    seqlist = []\n",
    "    for k in reversed(range(1,p)):\n",
    "        stack = [(1, [k], k)]\n",
    "        while stack:\n",
    "            cur, seq, csum = stack.pop()\n",
    "            if cur <= p:\n",
    "                if csum == edges:\n",
    "                    #seqlist.append(seq[:])\n",
    "                    seqlist.append(seq + [0]*(p-cur))\n",
    "                else:\n",
    "                    for i in range(1,min(edges-csum, seq[-1], p-cur+1)+1):\n",
    "                        csum += i\n",
    "                        stack.append((cur+1, seq+[i], csum))\n",
    "                        csum -= i\n",
    "    return seqlist"
   ]
  },
  {
   "cell_type": "code",
   "execution_count": null,
   "id": "7ce5bad4-8bcd-4f4a-bd2d-c3a734cdb75f",
   "metadata": {},
   "outputs": [],
   "source": [
    "# a function, output all graphs for a specific outdegree sequence\n",
    "def AllGraphs(seq):\n",
    "    assert len(seq) == p\n",
    "    \n",
    "    # generate all graphs corresponding to a specific outdegree sequence, with tail nodes representation\n",
    "    adj = np.array([[0 for _ in range(p)] for _ in range(p)])\n",
    "    stack = [(0, [], adj)]\n",
    "    tmp = []\n",
    "    \n",
    "    while stack:\n",
    "        cur, path, adj = stack.pop() #matrix B, i,j entry is j->i\n",
    "        if cur == p:\n",
    "            tmp.append(path)\n",
    "        else:\n",
    "            if seq[cur] == 0:\n",
    "                tmp.append(path + [set()] * (p-cur-1))\n",
    "            else:\n",
    "                for ch in list(itertools.combinations([x for x in range(p) if x != cur], seq[cur])): # all possible children set of size seq[cur]\n",
    "                    ch = list(ch)\n",
    "                    #print(cur, ch)\n",
    "                    if sum(adj[ch, cur]) == 0 and sum(adj[cur, ch]) == 0: # no edge from ch(cur) to cur(ch), ch can be children set of cur\n",
    "                        adj[ch, cur] = 1\n",
    "                        stack.append((cur+1, path+[ch], copy.deepcopy(adj)))\n",
    "                        adj[ch, cur] = 0 # *cur to children, reset to 0\n",
    "                        \n",
    "                    \n",
    "    # transform to edge representation\n",
    "    def trans(path):\n",
    "        res = []\n",
    "        for i, item in enumerate(path):\n",
    "            if item:\n",
    "                res.extend(list(map(lambda x: (i,x), item)))\n",
    "        return res\n",
    "    \n",
    "    #return tmp\n",
    "    return list(map(trans, tmp))"
   ]
  },
  {
   "cell_type": "code",
   "execution_count": null,
   "id": "e46450c4-dfc9-4bef-8387-930dc0d90ac0",
   "metadata": {},
   "outputs": [],
   "source": [
    "# generate all simple graphs with p nodes, listed as a folder tree structure\n",
    "\n",
    "p = 6\n",
    "if not os.path.exists('p='+str(p)):\n",
    "    os.mkdir('p='+str(p))\n",
    "\n",
    "for edges in range(p, p*(p-1)//2):\n",
    "    seqlist = OutdSeq(p, edges)\n",
    "    os.mkdir('p='+str(p)+'//e='+str(edges))\n",
    "    l = len(seqlist) // 10\n",
    "    for idx, seq in enumerate(seqlist):\n",
    "        with open('p=' + str(p) + '//e=' + str(edges) + '//'\\\n",
    "                  + str(idx).zfill(l), 'wt') as f:\n",
    "            print(AllGraphs(seq), file=f)\n",
    "            f.close()"
   ]
  }
 ],
 "metadata": {
  "kernelspec": {
   "display_name": "Python 3 (ipykernel)",
   "language": "python",
   "name": "python3"
  },
  "language_info": {
   "codemirror_mode": {
    "name": "ipython",
    "version": 3
   },
   "file_extension": ".py",
   "mimetype": "text/x-python",
   "name": "python",
   "nbconvert_exporter": "python",
   "pygments_lexer": "ipython3",
   "version": "3.9.7"
  }
 },
 "nbformat": 4,
 "nbformat_minor": 5
}
